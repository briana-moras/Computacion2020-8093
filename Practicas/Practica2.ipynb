{
 "cells": [
  {
   "cell_type": "markdown",
   "metadata": {},
   "source": [
    "# Introducción a las herramientas del cómputo científico.\n",
    "\n",
    "Sergio A. Alcalá Corona <br>\n",
    "Sergio A. Sánchez Chávez\n",
    "\n",
    "---\n",
    "---"
   ]
  },
  {
   "cell_type": "markdown",
   "metadata": {},
   "source": [
    "# SISTEMA OPERATIVO LINUX\n",
    "\n",
    "## Práctica 2\n",
    "\n",
    "### Trabajo con Archivos (redireccionamiento, búsqueda, filtros y permisos)\n",
    "\n",
    "Para esta práctica vamos a trabajar con una base de datos generada artificialmente. Esta se encuentra comprimida en el archivo **base.tar.gz**. \n",
    "\n",
    "---\n"
   ]
  },
  {
   "cell_type": "markdown",
   "metadata": {},
   "source": [
    "## Antes de empezar ...\n",
    "\n",
    "La **Base de Datos** esta organizada de la siguiente manera: \n",
    "\n",
    "Un directorio llamado _BaseDatos_ con subdirectorios organizados por alcaldías de la CDMX y sectores. \n",
    "Dentro de cada sector se encuentran archivos cuyo nombre esta dado por una fecha y dentro de cada uno hay una lista con 40 nombres y telefonos (todos generados aleatoriamente). \n",
    "\n",
    "Para descomprimir la base de datos utiliza el comando: \n",
    "\n",
    "`tar -xzf base.tar.gz`\n",
    "\n",
    "Para esta práctica será de ayuda utilizar el comando _**`wc`**_ (word counting)\n",
    "\n",
    "`wc -l archivo` para contar líneas\n",
    "\n",
    "`wc -w archivo` para contar palabras\n",
    "\n",
    "Si necesitas más información de este comando utiliza el manual"
   ]
  },
  {
   "cell_type": "markdown",
   "metadata": {},
   "source": [
    "## Indicaciones\n",
    "\n",
    "- Sólo es válido usar comandos de Bash (no Python, ni algún otro lenguaje de programación)\n",
    "\n",
    "- Todos los comandos que uses (a menos que se indique lo contrario) deben de estar en el notebook.\n",
    "\n",
    "- Los archivos resultantes deben de colocarse en un directorio llamado __*Resultado*__. Esta carpeta la deberás de comprimir y subirla al Classroom. El archivo que debes subir tiene que estar comprimido en un archivo .tar.gz para ello utilizarás el comando:\n",
    "\n",
    "`tar -czfv resultado.tar.gz Resultado/`"
   ]
  },
  {
   "cell_type": "markdown",
   "metadata": {},
   "source": [
    "# cat,  head, tail\n",
    "\n",
    "\n",
    "1. Copia el archivo (utilizando comandos de bash) que se encuentra en _BaseDatos/TLALPAN/sectorH/names_2009-08-30.txt_ a la carpeta _**Resultado**_.  \n",
    "\n",
    "Ahora colócate en el directorio _**Resultado**_ y ejecuta los siguientes comandos, para responder a las siguientes preguntas:  \n",
    "    \n",
    "2. ¿Cuál es el resultado de ejecutar los siguientes comandos en la terminal? \n",
    "\n",
    "    a) `cat < names_2009-08-30.txt > names_cat.txt`\n",
    "    \n",
    "    b) `cat < names_2009-08-30.txt >> names_cat.txt`\n",
    "\n",
    "\n",
    "3. ¿Cuál es la diferencia entre ambos? Explícalo con tus propias palabras. \n",
    "\n",
    "\n",
    "4. ¿Cuál es la diferencia entre estos comandos?\n",
    " \n",
    "    a) `cat names.txt 2> err.dat`\n",
    "    \n",
    "    b) `cata names.txt 2> err.dat`\n",
    "    \n",
    "\n",
    "5. Por último ¿qué sucede al ejecutar en una terminal: `cat > feliz + Ctrl+D` ?\n",
    "\n",
    "\n",
    "6. ¿Existe algúna forma con los comandos de bash de mostrar el archivo de forma inversa? En caso de existir, utilízalo para ver el archivo `BaseDatos/COYOACAN/sectorG/names_2015-02-13.txt` y guarda la salida en el archivo `catinverso.dat` \n",
    "\n",
    "\n",
    "7. Crea un solo archivo con el nombre _todosarchivos.txt_ que tenga el contenido de todos los archivos del directorio `BaseDatos/CUAUHTEMOC/sectorF/` \n",
    "\n",
    "\n",
    "8. Coloca en un archivo con el nombre `colacabeza` las primeras 23 líneas numeradas y las últimas 32 líneas numeradas del archivo `todosarchivos.txt`\n",
    " \n",
    " \n",
    "*Opcional*: Numera las linea.  Genera un archivo donde se indiquen con numeros las líneas de este archivo -->"
   ]
  },
  {
   "cell_type": "markdown",
   "metadata": {},
   "source": [
    "## Permisos\n",
    "\n",
    "9. Copia la carpeta CUAHTEMOC dentro de _**Resultados/**_ y cambia los permisos de todos los archivos de la siguiente manera sólo lectura y escritura para el dueño, sólo ejecución para el grupo y sólo lectura para los demás.\n",
    "\n"
   ]
  },
  {
   "cell_type": "markdown",
   "metadata": {},
   "source": [
    "## find y grep\n",
    "\n",
    "10. ¿Cuántos archivos tienen una extensión de `.txt` y cuántos tienen una extension `.dat`?\n",
    "\n",
    "\n",
    "11. ¿Cuántos veces aparece _tu nombre_ (sin apellido) en todos los archivos? \n",
    "\n",
    "\n",
    "12. ¿En cuántos archivos __NO__ aparecen tus nombres?\n",
    "\n",
    "\n",
    "13. ¿Cuántos veces coincide tus nombres con un archivo que tenga el año de tu nacimiento?\n",
    "\n",
    "\n",
    "14. ¿De cuántos directorios y subdirectorios está compuesta la base de datos?\n",
    "\n",
    "\n",
    "15. ¿Cuántos archivos tienen un tamaño menor a 1150 bytes?\n",
    "\n",
    "\n",
    "16. ¿Cuántos archivos coinciden con el año 2020 en su nombre y además pertencen al sectorS?"
   ]
  },
  {
   "cell_type": "code",
   "execution_count": null,
   "metadata": {},
   "outputs": [],
   "source": []
  }
 ],
 "metadata": {
  "kernelspec": {
   "display_name": "Bash",
   "language": "bash",
   "name": "bash"
  },
  "language_info": {
   "codemirror_mode": "shell",
   "file_extension": ".sh",
   "mimetype": "text/x-sh",
   "name": "bash"
  }
 },
 "nbformat": 4,
 "nbformat_minor": 4
}
