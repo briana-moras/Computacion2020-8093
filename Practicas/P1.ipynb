{
 "cells": [
  {
   "cell_type": "markdown",
   "metadata": {},
   "source": [
    "# Práctica 1\n",
    "Esta práctica es para que empiezes a familiarizarte con algunos de los comandos de Bash y su sintaxis además de que aprendas a utilizar los cuadernos (notebook) de Jupyter.\n",
    "\n",
    "Tendrás que abrir tu Jupyterlab y en un cuaderno de Bash realizarás lo siguiente. Si tienes que colocar una respuesta hazlo en una celda 'Markdown' y no de código."
   ]
  },
  {
   "cell_type": "markdown",
   "metadata": {},
   "source": [
    "### Fechas y calendario"
   ]
  },
  {
   "cell_type": "markdown",
   "metadata": {},
   "source": [
    "- Escribe el comando *whoaim* y el comando date, cada uno en una celda diferente y ejecútalos.\n",
    "- En la fecha que despliega el comando aparece CDT o UTC. ¿Qué significa cada una de ellas?    \n",
    "    Como viste en clase los comandos de linux pueden estar acompañados de opciones con distintas finalidades. Vamos a ver algunos de ellos a continuación\n",
    "- Ingresa de manera correcta día el 25 de Febrero de 1911 fecha de nacimiento de Carlos Graef. ¿En qué día de la semana cayo esa fecha?\n",
    "- Si contamos los días como números naturales desde  el primer día del mes, i.e. el 1 de Febrero corresponde al día 32 mientras que el 31 de diciembre corresponde al 365 (en un año bisiesto). Por lo tanto usa el comando *cal* para encontrar a que día natural del año corresponde la fecha en que nació Alberto Barajas (17 de Julio de 1913) ¿Qué día de la semana fue?\n",
    "- Dejando de lado las fechas el comando uname te muestra información del sistema. Ejecuta *uname -a* y podrás ver toda la información del kernel, procesador, SO del sistema, etc. De acuerdo con la información mostrada ¿cuál es tu versión del kernel?\n"
   ]
  },
  {
   "cell_type": "markdown",
   "metadata": {},
   "source": [
    "### Manejo e información de directorios y archivos"
   ]
  },
  {
   "cell_type": "markdown",
   "metadata": {},
   "source": [
    "- Lo primero que vas a hacer ejecutar el comando pwd para ver en que directorio te encuentras. Cada paso debe de estar indicado en un celda de notebook.\n",
    "- Lo siguiente que harás es crear un directorio nuevo con tu nombre y apellido sin espacios, acentos o carácteres especiales como la ñ, por ejemplo **Sergio**. \n",
    "- Dentro de este directorio crearás otros dos cada uno con tu apellido respetando la regla de no llevar acentos, ni carácteres especiales. \n",
    "- Después dentro de cada directorio vas a crear un archivo con el comando *touch*.\n",
    "- Aquí es a tu elección el nombre del archivo, sin embargo uno de ellos debe de comenzar con un punto '.'\n",
    "- ¿Que pása si ejecutas *cd ~*?\n",
    "- Dentro de la carpeta con tu nombre ejecuta el comando *ls -R*.\n",
    "- ¿Qué sucedió con el archivo que nombraste con un punto'.' inicial?\n",
    "- ¿Que opción deberías usar para ver el archivo que nombraste con '.' inicial?\n"
   ]
  }
 ],
 "metadata": {
  "kernelspec": {
   "display_name": "Bash",
   "language": "bash",
   "name": "bash"
  },
  "language_info": {
   "codemirror_mode": "shell",
   "file_extension": ".sh",
   "mimetype": "text/x-sh",
   "name": "bash"
  }
 },
 "nbformat": 4,
 "nbformat_minor": 4
}
