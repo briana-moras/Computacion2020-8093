{
 "cells": [
  {
   "cell_type": "markdown",
   "metadata": {},
   "source": [
    "# Introducción a las herramientas del cómputo científico.\n",
    "\n",
    "Sergio A. Alcalá Corona <br>\n",
    "Sergio A. Sánchez Chávez\n",
    "\n",
    "---\n",
    "---"
   ]
  },
  {
   "cell_type": "markdown",
   "metadata": {},
   "source": [
    "## SISTEMA OPERATIVO LINUX\n",
    "\n",
    "### Comandos Básicos y Sistema de Archivos.\n",
    "\n",
    "A continuacón expondremos el sistema de acechivos de linux y cómo manejara y manipular archivos \n",
    "Además de probar los comados aqui, hazo en la terminal del Jupyter Lab. \n",
    "\n",
    "---\n"
   ]
  },
  {
   "cell_type": "markdown",
   "metadata": {},
   "source": [
    "#### Sistema de archivos\n",
    "\n",
    "LINUX esta compuesto de un sistema de archivos jerárquico en el cual no existen unidades de disco, en su lugar cada unidad de almacenamiento así como cada dispositivo de hardware, son reconocidos como un archivo o directorio dentro del sistema.\n",
    "\n",
    "Existe sólo una raíz en el sistema, la cual representa la parte más alta de la estructura de directorios y es conocida como root o raíz, es representada por el símbolo de **/** a partir de este punto se desprenden diferentes ramas de directorios como las siguientes:\n",
    "\n",
    "#### Directorios principales:\n",
    "\n",
    "**_/_**   Raíz del sistema <br> <br>\n",
    "\n",
    "_/var_ &nbsp; &nbsp; Variables del sistema <br>\n",
    "_/var/log_ &nbsp; &nbsp; Bitácoras del sistema <br>\n",
    "_/dev_  &nbsp; &nbsp; Dispositivos de hardware <br>\n",
    "_/etc_  &nbsp; &nbsp; Archivos de configuración del sistema <br>\n",
    "_/home_ &nbsp; &nbsp; Directorios de los usuarios <br>\n",
    "_/bin_  &nbsp; &nbsp; &nbsp; &nbsp; &nbsp; Comandos del sistema <br>\n",
    "_/sbin_ &nbsp; &nbsp; &nbsp; &nbsp; &nbsp; Comandos del sistema <br>\n",
    "_/boot_ &nbsp; &nbsp; &nbsp; &nbsp; &nbsp;  Archivos de inicio del sistema <br>\n",
    "_/mnt_  &nbsp; &nbsp; &nbsp; &nbsp; &nbsp; Dispositivos montados <br>\n",
    "\n",
    "---"
   ]
  },
  {
   "cell_type": "markdown",
   "metadata": {},
   "source": [
    "## Comandos básicos\n",
    "\n",
    "---"
   ]
  },
  {
   "cell_type": "markdown",
   "metadata": {},
   "source": [
    "#### **_pwd_** (Print Working Directory)\n",
    "\n",
    "Este comando imprime en pantalla el directorio actual de trabajo, es decir, donde nos encontramos posicionados dentro del sistema de directorios indicándonos la ruta absoluta."
   ]
  },
  {
   "cell_type": "code",
   "execution_count": null,
   "metadata": {},
   "outputs": [],
   "source": []
  },
  {
   "cell_type": "markdown",
   "metadata": {},
   "source": [
    "#### **_ls_** (list)\n",
    "\n",
    "Muestra un listado del contenido del directorio actual de trabajo, este comando tiene varias opciones, entre las más relevantes se encuentran las siguientes:\n",
    "\n",
    "**-`l`** Muestra un listado con formato largo indicando todas las propiedades de los archivos y directorios del directorio actual de trabajo.\n",
    "\n",
    "**-`a`** Muestra todo el contenido del directorio, incluyendo los archivos y directorios ocultos.\n",
    "\n",
    "**-`r`** Muestra el listado en orden inverso alfabético.\n",
    "\n",
    "**-`R`**  Muestra un listado en forma recursiva, es decir lista el contenido de directorios y subdirectorios a partir de la ruta donde le indiquemos.\n",
    "\n",
    "**-`t`**  Muestra un listado tomando como opción la fecha de modificación del archivo o directorio.\n",
    "\n",
    "**-`i`**  Muestra el listado con el inodo donde se encuentra almacenado el archivo en el disco.\n",
    "\n",
    "Prueba algunas opciones ..."
   ]
  },
  {
   "cell_type": "code",
   "execution_count": null,
   "metadata": {},
   "outputs": [],
   "source": []
  },
  {
   "cell_type": "code",
   "execution_count": null,
   "metadata": {},
   "outputs": [],
   "source": []
  },
  {
   "cell_type": "markdown",
   "metadata": {},
   "source": [
    "#### **_cd_** (Change Directory)\n",
    "\n",
    "Este comando nos permite movernos entre directorios, es necesario que le indiquemos la ruta del directorio al que nos queremos cambiar.\n",
    "\n",
    "`cd dir1/dir2/dir3` \n",
    "\n",
    "Es posible utilizar rutas absolutas o rutas\n",
    "relativas según sea nuestra conveniencia.\n",
    "\n",
    "Prueba algunas rutas ..."
   ]
  },
  {
   "cell_type": "code",
   "execution_count": null,
   "metadata": {},
   "outputs": [],
   "source": []
  },
  {
   "cell_type": "code",
   "execution_count": null,
   "metadata": {},
   "outputs": [],
   "source": []
  },
  {
   "cell_type": "markdown",
   "metadata": {},
   "source": [
    "### Comodines _**`*, ?`**_\n",
    "\n",
    "Existen dos caracteres llamados comodines los cuales pueden sustituir un carácter o conjunto de caracteres durante la ejecución de comandos, Ej: \n",
    "\n",
    "`ls ??a` Muestra aquellos archivos y directorios los cuales tengan el nombre de tres letras y la\n",
    "tercera sea la letra _**a**_\n",
    "\n",
    "`ls *u*t*` Muestra aquellos archivos y directorios los cuales tengan en el nombre una _**y**_  y una _**t**_ en cualquier posición pero en el orden que se le indica."
   ]
  },
  {
   "cell_type": "code",
   "execution_count": null,
   "metadata": {},
   "outputs": [],
   "source": []
  },
  {
   "cell_type": "code",
   "execution_count": null,
   "metadata": {},
   "outputs": [],
   "source": []
  },
  {
   "cell_type": "markdown",
   "metadata": {},
   "source": [
    "#### **_mkdir_**  (Make Directory)\n",
    "\n",
    "Este comando nos permite crear directorios, es posible crear varios directorios en la misma línea de comando escribiendo uno a continuación de otro separados por un espacio.\n",
    "\n",
    "`mkdir tareas` \n",
    "\n",
    "`mkdir examen ejercicios` \n",
    "\n",
    "Prueba crear algunos directorios ..."
   ]
  },
  {
   "cell_type": "code",
   "execution_count": null,
   "metadata": {},
   "outputs": [],
   "source": []
  },
  {
   "cell_type": "code",
   "execution_count": null,
   "metadata": {},
   "outputs": [],
   "source": []
  },
  {
   "cell_type": "markdown",
   "metadata": {},
   "source": [
    "##### **Opciones**\n",
    "\n",
    "**-`p`** \n",
    "\n",
    "Crea todos los directorios padres inexistentes, es decir, primero busca la rama de directorios y si no la encuentra la crea.\n"
   ]
  },
  {
   "cell_type": "code",
   "execution_count": 19,
   "metadata": {},
   "outputs": [],
   "source": [
    "mkdir -p archivos/musica/rock"
   ]
  },
  {
   "cell_type": "code",
   "execution_count": null,
   "metadata": {},
   "outputs": [],
   "source": []
  },
  {
   "cell_type": "markdown",
   "metadata": {},
   "source": [
    "**-`v`** \n",
    "\n",
    "Informa sobre la creación de directorios.\n"
   ]
  },
  {
   "cell_type": "code",
   "execution_count": null,
   "metadata": {},
   "outputs": [],
   "source": [
    "mkdir -pv archivos/fotos/facebook/upload"
   ]
  },
  {
   "cell_type": "code",
   "execution_count": null,
   "metadata": {},
   "outputs": [],
   "source": []
  },
  {
   "cell_type": "code",
   "execution_count": null,
   "metadata": {},
   "outputs": [],
   "source": []
  },
  {
   "cell_type": "markdown",
   "metadata": {},
   "source": [
    "#### **_touch_**\n",
    "\n",
    "Este comando nos permite crear archivos vacíos, de tamaño 0 bytes.\n"
   ]
  },
  {
   "cell_type": "code",
   "execution_count": 16,
   "metadata": {},
   "outputs": [],
   "source": [
    "touch prueba"
   ]
  },
  {
   "cell_type": "code",
   "execution_count": null,
   "metadata": {},
   "outputs": [],
   "source": []
  },
  {
   "cell_type": "markdown",
   "metadata": {},
   "source": [
    "#### **_rm_** (Remove)\n",
    "\n",
    "El comando rm borra archivos, puede ser borrado un solo archivo o varios haciendo uso de los\n",
    "metacaracteres _**`*, ?`**_\n",
    "\n",
    "Ejemplos:\n",
    "\n",
    "`rm saludo`\n",
    "\n",
    "`rm lo*`\n",
    "\n",
    "`rm pr??ba`\n",
    "\n",
    "Haz unas pruebas ..."
   ]
  },
  {
   "cell_type": "code",
   "execution_count": null,
   "metadata": {},
   "outputs": [],
   "source": []
  },
  {
   "cell_type": "code",
   "execution_count": null,
   "metadata": {},
   "outputs": [],
   "source": []
  },
  {
   "cell_type": "markdown",
   "metadata": {},
   "source": [
    "#### **_rmdir_**  (Remove Directory)\n",
    "\n",
    "Este comando borra directorios, la única condición que debe cumplir es que se encuentre vacío el directorio a ser borrado.\n",
    "\n",
    "`rmdir nom_directorio` \n",
    "\n",
    "`rmdir examen` \n",
    "\n",
    "Pruebalo ...\n"
   ]
  },
  {
   "cell_type": "code",
   "execution_count": null,
   "metadata": {},
   "outputs": [],
   "source": []
  },
  {
   "cell_type": "markdown",
   "metadata": {},
   "source": [
    "#### **_cp_** (copy)\n",
    " \n",
    "El comando cp nos permite hacer copias de archivos uno por uno, múltiples archivos o incluso hacer copias\n",
    "de estructuras de directorios.\n",
    "\n",
    "`cp ruta_origen ruta_destino`\n",
    "\n",
    "Pruebalo ..."
   ]
  },
  {
   "cell_type": "code",
   "execution_count": null,
   "metadata": {},
   "outputs": [],
   "source": []
  },
  {
   "cell_type": "code",
   "execution_count": null,
   "metadata": {},
   "outputs": [],
   "source": []
  },
  {
   "cell_type": "markdown",
   "metadata": {},
   "source": [
    "### Caracteres Especiales\n",
    "\n",
    "UNIX maneja varios caracteres especiales, cada uno de ellos realiza una función en específico, en casiones pueden ser combinados para aumentar el potencial del comando en ejecución o para redireccionamiento, se recomienda que estos caracteres no se utilicen al nombrar archivos o directorios.\n",
    "\n",
    "Estos caracteres son:\n",
    "\n",
    "` ; , < > | >> ^ $ & / ~ \\ [ ] ‘ “ ( ) . * `"
   ]
  },
  {
   "cell_type": "markdown",
   "metadata": {},
   "source": [
    "En Linux “todo es un programa”, incluso los comandos. Estos se encuentran por lo general en\n",
    "los directorios llamados “bin”.\n",
    "\n",
    "` whereis`  o ` which`  me indican la “ruta” donde se encuentra el comando (programa/aplicación).\n",
    "\n",
    "\n",
    "\n"
   ]
  },
  {
   "cell_type": "code",
   "execution_count": null,
   "metadata": {},
   "outputs": [],
   "source": [
    "whereis pwd"
   ]
  },
  {
   "cell_type": "code",
   "execution_count": null,
   "metadata": {},
   "outputs": [],
   "source": [
    "which ls"
   ]
  },
  {
   "cell_type": "code",
   "execution_count": null,
   "metadata": {},
   "outputs": [],
   "source": [
    "which cd"
   ]
  },
  {
   "cell_type": "markdown",
   "metadata": {},
   "source": [
    "Podemos escribir un comando utilizando:\n",
    "\n",
    "- su nombre\n",
    "- la ruta absoluta (/bin/pwd /etc/passwd )\n",
    "- la ruta relativa (utilizando \".\" o \"..\" en general para los programas o scripts que no se encuentran en\n",
    "PATH)\n",
    "\n",
    "Podemos cambiar de directorio de igual forma o bien\n",
    "usando:\n",
    "\n",
    "`cd ..`\n",
    "\n",
    "`. es el directorio actual`\n",
    "\n",
    "`.. es el directorio padre`"
   ]
  },
  {
   "cell_type": "code",
   "execution_count": null,
   "metadata": {},
   "outputs": [],
   "source": []
  },
  {
   "cell_type": "markdown",
   "metadata": {},
   "source": [
    "### Rutas absolutas y relativas\n",
    "\n",
    "Las **_rutas absolutas_** siempre inician con el símbolo de **_`/`_** que indica el punto más alto de la estructura de directorios, a partir de aquí se debe de poner la ruta completa para llegar al punto que se quiera afectar.\n",
    "\n",
    "`cd /home` \n",
    "\n",
    "`cd /var/spool/mail` \n",
    "\n",
    "`cd /` \n",
    "\n",
    "Pruebalo tú ....\n"
   ]
  },
  {
   "cell_type": "markdown",
   "metadata": {},
   "source": [
    "Las rutas relativas nunca inician con el símbolo de raíz **_`/`_** en lugar de ello inician la ruta a partir del directorio actual de trabajo.\n",
    "\n",
    "Supongamos que se encuentra en su directorio **_`home/`_** ,   y quiere regresar dos directorios hacia arriba para posicionarnos en la raíz del sistema:\n"
   ]
  },
  {
   "cell_type": "code",
   "execution_count": null,
   "metadata": {},
   "outputs": [],
   "source": [
    "cd ../.."
   ]
  },
  {
   "cell_type": "code",
   "execution_count": null,
   "metadata": {},
   "outputs": [],
   "source": []
  },
  {
   "cell_type": "markdown",
   "metadata": {},
   "source": [
    "o también:\n",
    "\n",
    "`cd Escritorio`\n",
    "\n",
    "`cd images`\n",
    "\n",
    "`cd images/fotos`\n",
    "\n",
    "Prueba ...\n"
   ]
  },
  {
   "cell_type": "code",
   "execution_count": null,
   "metadata": {},
   "outputs": [],
   "source": []
  },
  {
   "cell_type": "code",
   "execution_count": null,
   "metadata": {},
   "outputs": [],
   "source": []
  }
 ],
 "metadata": {
  "kernelspec": {
   "display_name": "Bash",
   "language": "bash",
   "name": "bash"
  },
  "language_info": {
   "codemirror_mode": "shell",
   "file_extension": ".sh",
   "mimetype": "text/x-sh",
   "name": "bash"
  }
 },
 "nbformat": 4,
 "nbformat_minor": 2
}
